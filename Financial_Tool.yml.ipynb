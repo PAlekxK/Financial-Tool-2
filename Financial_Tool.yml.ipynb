{
 "cells": [
  {
   "cell_type": "code",
   "execution_count": null,
   "id": "52bebe78",
   "metadata": {},
   "outputs": [],
   "source": [
    "# modify these folder and file paths if you want to execute the data transformation with unification.py\n",
    "# note: these have \"/\" because this was done on a Mac. For Windows, replace all \"/\" with \"\\\\\".\n",
    "\n",
    "# --------------------------  DIRECTORIES & OUTPUT FILE NAME --------------------------\n",
    "\n",
    "\n",
    "# -------------------------- INPUT FILE NAMES & SHEET NAMES ---------------------------\n",
    "\n",
    "# Field lists\n",
    "# -> These lists define the fields used for the \n",
    "field_list:\n",
    "    Assets:\n",
    "        Cash: [\"BoA_Checking\",\"Ally_Checking\",\"Ally_Savings\"]\n",
    "        Investments: [\"Coinbase\", \"Ally_Stocks\"]\n",
    "        Business: ['GKW_Value']\n",
    "        Heavy_Assets: [\"Home_Value\",\"Car\"]\n",
    "        Retirement: [\"Porsche_401k\", \"BCG_401k\"]\n",
    "    \n",
    "    Liabilities: \n",
    "        Credit_Cards: [\"CreditCard_BoA\", \"CreditCard_Amex_Personal\", \"CreditCard_Amex_Corporate\", \"CreditCard_Amazon\", \"CreditCard_Apple\"]\n",
    "        Free_Financing: [\"IdealImage_Loan\", \"CreditCard_Sweetwater\"]\n",
    "        Car_Loan: [\"Car_Loan\"]\n",
    "        Home_Mortgage: [\"Home_Mortgage\", \"Home_Loan_401k\"]"
   ]
  }
 ],
 "metadata": {
  "kernelspec": {
   "display_name": "Python 3 (ipykernel)",
   "language": "python",
   "name": "python3"
  },
  "language_info": {
   "codemirror_mode": {
    "name": "ipython",
    "version": 3
   },
   "file_extension": ".py",
   "mimetype": "text/x-python",
   "name": "python",
   "nbconvert_exporter": "python",
   "pygments_lexer": "ipython3",
   "version": "3.9.15"
  }
 },
 "nbformat": 4,
 "nbformat_minor": 5
}
