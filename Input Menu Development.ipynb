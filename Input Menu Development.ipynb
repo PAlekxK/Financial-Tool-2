{
 "cells": [
  {
   "cell_type": "code",
   "execution_count": 7,
   "id": "bb02e8d9",
   "metadata": {},
   "outputs": [],
   "source": [
    "### Import libraries\n",
    "\n",
    "#Add to code base\n",
    "import tkinter as tk\n",
    "from tkinter import simpledialog\n",
    "\n",
    "\n",
    "#Duplicative\n",
    "import datetime\n",
    "from Financial_Model_Functions import *\n",
    "account_hierarchy = load_config()"
   ]
  },
  {
   "cell_type": "code",
   "execution_count": 8,
   "id": "936552c8",
   "metadata": {},
   "outputs": [],
   "source": [
    "def account_balance_prompt(fields = account_hierarchy['column_names']):\n",
    "    ### Establish field names for pop-up\n",
    "    column_names = fields\n",
    "    column_names.remove('Date')\n",
    "    # pop_up_defaults = [0] * len(column_names)\n",
    "    # pop_up_fields = list(zip(column_names, pop_up_defaults))\n",
    "    \n",
    "    class UserInfoDialog(simpledialog.Dialog):\n",
    "        def __init__(self, parent, title, fields):\n",
    "            self.fields = fields\n",
    "            simpledialog.Dialog.__init__(self, parent, title)\n",
    "\n",
    "        def body(self, master):\n",
    "            self.entries = []\n",
    "            for i, field in enumerate(self.fields):\n",
    "                tk.Label(master, text=field+\":\").grid(row=i)\n",
    "                entry = tk.Entry(master)\n",
    "                entry.grid(row=i, column=1)\n",
    "                self.entries.append(entry)\n",
    "            return self.entries[0]  # initial focus\n",
    "\n",
    "        def apply(self):\n",
    "            self.results = {}\n",
    "            for entry, field in zip(self.entries, self.fields):\n",
    "                self.results[field] = entry.get()\n",
    "\n",
    "    root = tk.Tk()\n",
    "    root.withdraw()\n",
    "\n",
    "\n",
    "    dialog = UserInfoDialog(root, \"User Information\", column_names)\n",
    "\n",
    "    if dialog.results is not None:\n",
    "        print(\"Results:\")\n",
    "        for column_name in column_names:\n",
    "            print(\"{}: {}\".format(column_name, dialog.results[column_name]))\n",
    "    else:\n",
    "        print(\"You cancelled the input\")\n",
    "\n",
    "    root.destroy()\n",
    "    \n",
    "    return dialog.results"
   ]
  },
  {
   "cell_type": "code",
   "execution_count": 9,
   "id": "e855811d",
   "metadata": {},
   "outputs": [
    {
     "name": "stdout",
     "output_type": "stream",
     "text": [
      "Results:\n",
      "Porsche_401k: 7\n",
      "BCG_401k: \n",
      "Home_Value: \n",
      "Car: \n",
      "GKW_Value: \n",
      "Coinbase: \n",
      "Ally_Stocks: \n",
      "BoA_Checking: \n",
      "Ally_Checking: \n",
      "Ally_Savings: \n",
      "CreditCard_BoA: \n",
      "CreditCard_Amex_Personal: \n",
      "CreditCard_Amex_Corporate: \n",
      "CreditCard_Amazon: \n",
      "CreditCard_Apple: \n",
      "IdealImage_Loan: \n",
      "CreditCard_Sweetwater: \n",
      "Car_Loan: \n",
      "Home_Mortgage: \n",
      "Home_Loan_401k: \n"
     ]
    }
   ],
   "source": [
    "row_to_add = pd.DataFrame(list(account_balance_prompt(fields = account_hierarchy['column_names']).items()))"
   ]
  },
  {
   "cell_type": "code",
   "execution_count": 10,
   "id": "b1703629",
   "metadata": {
    "scrolled": true
   },
   "outputs": [
    {
     "data": {
      "text/html": [
       "<div>\n",
       "<style scoped>\n",
       "    .dataframe tbody tr th:only-of-type {\n",
       "        vertical-align: middle;\n",
       "    }\n",
       "\n",
       "    .dataframe tbody tr th {\n",
       "        vertical-align: top;\n",
       "    }\n",
       "\n",
       "    .dataframe thead th {\n",
       "        text-align: right;\n",
       "    }\n",
       "</style>\n",
       "<table border=\"1\" class=\"dataframe\">\n",
       "  <thead>\n",
       "    <tr style=\"text-align: right;\">\n",
       "      <th></th>\n",
       "      <th>Porsche_401k</th>\n",
       "      <th>BCG_401k</th>\n",
       "      <th>Home_Value</th>\n",
       "      <th>Car</th>\n",
       "      <th>GKW_Value</th>\n",
       "      <th>Coinbase</th>\n",
       "      <th>Ally_Stocks</th>\n",
       "      <th>BoA_Checking</th>\n",
       "      <th>Ally_Checking</th>\n",
       "      <th>Ally_Savings</th>\n",
       "      <th>CreditCard_BoA</th>\n",
       "      <th>CreditCard_Amex_Personal</th>\n",
       "      <th>CreditCard_Amex_Corporate</th>\n",
       "      <th>CreditCard_Amazon</th>\n",
       "      <th>CreditCard_Apple</th>\n",
       "      <th>IdealImage_Loan</th>\n",
       "      <th>CreditCard_Sweetwater</th>\n",
       "      <th>Car_Loan</th>\n",
       "      <th>Home_Mortgage</th>\n",
       "      <th>Home_Loan_401k</th>\n",
       "    </tr>\n",
       "  </thead>\n",
       "  <tbody>\n",
       "    <tr>\n",
       "      <th>0</th>\n",
       "      <td>Porsche_401k</td>\n",
       "      <td>BCG_401k</td>\n",
       "      <td>Home_Value</td>\n",
       "      <td>Car</td>\n",
       "      <td>GKW_Value</td>\n",
       "      <td>Coinbase</td>\n",
       "      <td>Ally_Stocks</td>\n",
       "      <td>BoA_Checking</td>\n",
       "      <td>Ally_Checking</td>\n",
       "      <td>Ally_Savings</td>\n",
       "      <td>CreditCard_BoA</td>\n",
       "      <td>CreditCard_Amex_Personal</td>\n",
       "      <td>CreditCard_Amex_Corporate</td>\n",
       "      <td>CreditCard_Amazon</td>\n",
       "      <td>CreditCard_Apple</td>\n",
       "      <td>IdealImage_Loan</td>\n",
       "      <td>CreditCard_Sweetwater</td>\n",
       "      <td>Car_Loan</td>\n",
       "      <td>Home_Mortgage</td>\n",
       "      <td>Home_Loan_401k</td>\n",
       "    </tr>\n",
       "    <tr>\n",
       "      <th>1</th>\n",
       "      <td>7</td>\n",
       "      <td></td>\n",
       "      <td></td>\n",
       "      <td></td>\n",
       "      <td></td>\n",
       "      <td></td>\n",
       "      <td></td>\n",
       "      <td></td>\n",
       "      <td></td>\n",
       "      <td></td>\n",
       "      <td></td>\n",
       "      <td></td>\n",
       "      <td></td>\n",
       "      <td></td>\n",
       "      <td></td>\n",
       "      <td></td>\n",
       "      <td></td>\n",
       "      <td></td>\n",
       "      <td></td>\n",
       "      <td></td>\n",
       "    </tr>\n",
       "  </tbody>\n",
       "</table>\n",
       "</div>"
      ],
      "text/plain": [
       "0  Porsche_401k  BCG_401k  Home_Value  Car  GKW_Value  Coinbase  Ally_Stocks  \\\n",
       "0  Porsche_401k  BCG_401k  Home_Value  Car  GKW_Value  Coinbase  Ally_Stocks   \n",
       "1             7                                                                \n",
       "\n",
       "0  BoA_Checking  Ally_Checking  Ally_Savings  CreditCard_BoA  \\\n",
       "0  BoA_Checking  Ally_Checking  Ally_Savings  CreditCard_BoA   \n",
       "1                                                              \n",
       "\n",
       "0  CreditCard_Amex_Personal  CreditCard_Amex_Corporate  CreditCard_Amazon  \\\n",
       "0  CreditCard_Amex_Personal  CreditCard_Amex_Corporate  CreditCard_Amazon   \n",
       "1                                                                           \n",
       "\n",
       "0  CreditCard_Apple  IdealImage_Loan  CreditCard_Sweetwater  Car_Loan  \\\n",
       "0  CreditCard_Apple  IdealImage_Loan  CreditCard_Sweetwater  Car_Loan   \n",
       "1                                                                       \n",
       "\n",
       "0  Home_Mortgage  Home_Loan_401k  \n",
       "0  Home_Mortgage  Home_Loan_401k  \n",
       "1                                 "
      ]
     },
     "execution_count": 10,
     "metadata": {},
     "output_type": "execute_result"
    }
   ],
   "source": [
    "#Transpose df\n",
    "row_to_add = row_to_add.T\n",
    "# Copy first row to column headers\n",
    "row_to_add.columns = row_to_add.iloc[0]\n",
    "# Delete first row\n",
    "row_to_add.drop([0],inplace = True)\n",
    "# Add date to dataframe\n",
    "row_to_add['Date'] =  pd.Timestamp.today()\n",
    "#Set date as index\n",
    "row_to_add.set_index('Date')"
   ]
  },
  {
   "cell_type": "code",
   "execution_count": 11,
   "id": "4a067afe",
   "metadata": {},
   "outputs": [],
   "source": [
    "row_to_add.drop([0],inplace = True)"
   ]
  },
  {
   "cell_type": "code",
   "execution_count": 18,
   "id": "9b6706c7",
   "metadata": {},
   "outputs": [],
   "source": [
    "row_to_add['Date'] =  pd.Timestamp.today()"
   ]
  },
  {
   "cell_type": "code",
   "execution_count": 20,
   "id": "0139304b",
   "metadata": {},
   "outputs": [
    {
     "data": {
      "text/html": [
       "<div>\n",
       "<style scoped>\n",
       "    .dataframe tbody tr th:only-of-type {\n",
       "        vertical-align: middle;\n",
       "    }\n",
       "\n",
       "    .dataframe tbody tr th {\n",
       "        vertical-align: top;\n",
       "    }\n",
       "\n",
       "    .dataframe thead th {\n",
       "        text-align: right;\n",
       "    }\n",
       "</style>\n",
       "<table border=\"1\" class=\"dataframe\">\n",
       "  <thead>\n",
       "    <tr style=\"text-align: right;\">\n",
       "      <th></th>\n",
       "      <th>Porsche_401k</th>\n",
       "      <th>BCG_401k</th>\n",
       "      <th>Home_Value</th>\n",
       "      <th>Car</th>\n",
       "      <th>GKW_Value</th>\n",
       "      <th>Coinbase</th>\n",
       "      <th>Ally_Stocks</th>\n",
       "      <th>BoA_Checking</th>\n",
       "      <th>Ally_Checking</th>\n",
       "      <th>Ally_Savings</th>\n",
       "      <th>CreditCard_BoA</th>\n",
       "      <th>CreditCard_Amex_Personal</th>\n",
       "      <th>CreditCard_Amex_Corporate</th>\n",
       "      <th>CreditCard_Amazon</th>\n",
       "      <th>CreditCard_Apple</th>\n",
       "      <th>IdealImage_Loan</th>\n",
       "      <th>CreditCard_Sweetwater</th>\n",
       "      <th>Car_Loan</th>\n",
       "      <th>Home_Mortgage</th>\n",
       "      <th>Home_Loan_401k</th>\n",
       "    </tr>\n",
       "    <tr>\n",
       "      <th>Date</th>\n",
       "      <th></th>\n",
       "      <th></th>\n",
       "      <th></th>\n",
       "      <th></th>\n",
       "      <th></th>\n",
       "      <th></th>\n",
       "      <th></th>\n",
       "      <th></th>\n",
       "      <th></th>\n",
       "      <th></th>\n",
       "      <th></th>\n",
       "      <th></th>\n",
       "      <th></th>\n",
       "      <th></th>\n",
       "      <th></th>\n",
       "      <th></th>\n",
       "      <th></th>\n",
       "      <th></th>\n",
       "      <th></th>\n",
       "      <th></th>\n",
       "    </tr>\n",
       "  </thead>\n",
       "  <tbody>\n",
       "    <tr>\n",
       "      <th>2023-02-23 11:50:16.335905</th>\n",
       "      <td>7</td>\n",
       "      <td></td>\n",
       "      <td></td>\n",
       "      <td></td>\n",
       "      <td></td>\n",
       "      <td></td>\n",
       "      <td></td>\n",
       "      <td></td>\n",
       "      <td></td>\n",
       "      <td></td>\n",
       "      <td></td>\n",
       "      <td></td>\n",
       "      <td></td>\n",
       "      <td></td>\n",
       "      <td></td>\n",
       "      <td></td>\n",
       "      <td></td>\n",
       "      <td></td>\n",
       "      <td></td>\n",
       "      <td></td>\n",
       "    </tr>\n",
       "  </tbody>\n",
       "</table>\n",
       "</div>"
      ],
      "text/plain": [
       "0                          Porsche_401k BCG_401k Home_Value Car GKW_Value  \\\n",
       "Date                                                                        \n",
       "2023-02-23 11:50:16.335905            7                                     \n",
       "\n",
       "0                          Coinbase Ally_Stocks BoA_Checking Ally_Checking  \\\n",
       "Date                                                                         \n",
       "2023-02-23 11:50:16.335905                                                   \n",
       "\n",
       "0                          Ally_Savings CreditCard_BoA  \\\n",
       "Date                                                     \n",
       "2023-02-23 11:50:16.335905                               \n",
       "\n",
       "0                          CreditCard_Amex_Personal CreditCard_Amex_Corporate  \\\n",
       "Date                                                                            \n",
       "2023-02-23 11:50:16.335905                                                      \n",
       "\n",
       "0                          CreditCard_Amazon CreditCard_Apple IdealImage_Loan  \\\n",
       "Date                                                                            \n",
       "2023-02-23 11:50:16.335905                                                      \n",
       "\n",
       "0                          CreditCard_Sweetwater Car_Loan Home_Mortgage  \\\n",
       "Date                                                                      \n",
       "2023-02-23 11:50:16.335905                                                \n",
       "\n",
       "0                          Home_Loan_401k  \n",
       "Date                                       \n",
       "2023-02-23 11:50:16.335905                 "
      ]
     },
     "execution_count": 20,
     "metadata": {},
     "output_type": "execute_result"
    }
   ],
   "source": [
    "row_to_add.set_index('Date')"
   ]
  },
  {
   "cell_type": "code",
   "execution_count": 15,
   "id": "17e0eb9a",
   "metadata": {},
   "outputs": [],
   "source": [
    "Todays_date = pd.Timestamp.today()"
   ]
  },
  {
   "cell_type": "code",
   "execution_count": 17,
   "id": "7aec186b",
   "metadata": {},
   "outputs": [
    {
     "ename": "KeyError",
     "evalue": "\"None of [Timestamp('2023-02-23 11:49:02.046542')] are in the columns\"",
     "output_type": "error",
     "traceback": [
      "\u001b[1;31m---------------------------------------------------------------------------\u001b[0m",
      "\u001b[1;31mKeyError\u001b[0m                                  Traceback (most recent call last)",
      "\u001b[1;32m~\\AppData\\Local\\Temp\\ipykernel_92052\\2652046425.py\u001b[0m in \u001b[0;36m<module>\u001b[1;34m\u001b[0m\n\u001b[1;32m----> 1\u001b[1;33m \u001b[0mrow_to_add\u001b[0m\u001b[1;33m.\u001b[0m\u001b[0mset_index\u001b[0m\u001b[1;33m(\u001b[0m\u001b[0mTodays_date\u001b[0m\u001b[1;33m)\u001b[0m\u001b[1;33m\u001b[0m\u001b[1;33m\u001b[0m\u001b[0m\n\u001b[0m",
      "\u001b[1;32mC:\\ProgramData\\Anaconda3_correct\\lib\\site-packages\\pandas\\util\\_decorators.py\u001b[0m in \u001b[0;36mwrapper\u001b[1;34m(*args, **kwargs)\u001b[0m\n\u001b[0;32m    309\u001b[0m                     \u001b[0mstacklevel\u001b[0m\u001b[1;33m=\u001b[0m\u001b[0mstacklevel\u001b[0m\u001b[1;33m,\u001b[0m\u001b[1;33m\u001b[0m\u001b[1;33m\u001b[0m\u001b[0m\n\u001b[0;32m    310\u001b[0m                 )\n\u001b[1;32m--> 311\u001b[1;33m             \u001b[1;32mreturn\u001b[0m \u001b[0mfunc\u001b[0m\u001b[1;33m(\u001b[0m\u001b[1;33m*\u001b[0m\u001b[0margs\u001b[0m\u001b[1;33m,\u001b[0m \u001b[1;33m**\u001b[0m\u001b[0mkwargs\u001b[0m\u001b[1;33m)\u001b[0m\u001b[1;33m\u001b[0m\u001b[1;33m\u001b[0m\u001b[0m\n\u001b[0m\u001b[0;32m    312\u001b[0m \u001b[1;33m\u001b[0m\u001b[0m\n\u001b[0;32m    313\u001b[0m         \u001b[1;32mreturn\u001b[0m \u001b[0mwrapper\u001b[0m\u001b[1;33m\u001b[0m\u001b[1;33m\u001b[0m\u001b[0m\n",
      "\u001b[1;32mC:\\ProgramData\\Anaconda3_correct\\lib\\site-packages\\pandas\\core\\frame.py\u001b[0m in \u001b[0;36mset_index\u001b[1;34m(self, keys, drop, append, inplace, verify_integrity)\u001b[0m\n\u001b[0;32m   5501\u001b[0m \u001b[1;33m\u001b[0m\u001b[0m\n\u001b[0;32m   5502\u001b[0m         \u001b[1;32mif\u001b[0m \u001b[0mmissing\u001b[0m\u001b[1;33m:\u001b[0m\u001b[1;33m\u001b[0m\u001b[1;33m\u001b[0m\u001b[0m\n\u001b[1;32m-> 5503\u001b[1;33m             \u001b[1;32mraise\u001b[0m \u001b[0mKeyError\u001b[0m\u001b[1;33m(\u001b[0m\u001b[1;34mf\"None of {missing} are in the columns\"\u001b[0m\u001b[1;33m)\u001b[0m\u001b[1;33m\u001b[0m\u001b[1;33m\u001b[0m\u001b[0m\n\u001b[0m\u001b[0;32m   5504\u001b[0m \u001b[1;33m\u001b[0m\u001b[0m\n\u001b[0;32m   5505\u001b[0m         \u001b[1;32mif\u001b[0m \u001b[0minplace\u001b[0m\u001b[1;33m:\u001b[0m\u001b[1;33m\u001b[0m\u001b[1;33m\u001b[0m\u001b[0m\n",
      "\u001b[1;31mKeyError\u001b[0m: \"None of [Timestamp('2023-02-23 11:49:02.046542')] are in the columns\""
     ]
    }
   ],
   "source": [
    "row_to_add.set_index(Todays_date)"
   ]
  },
  {
   "cell_type": "code",
   "execution_count": 25,
   "id": "552077bd",
   "metadata": {},
   "outputs": [
    {
     "name": "stdout",
     "output_type": "stream",
     "text": [
      "Results:\n",
      "Porsche_401k: 1\n",
      "BCG_401k: 1\n",
      "Home_Value: \n",
      "Car: \n",
      "GKW_Value: \n",
      "Coinbase: \n",
      "Ally_Stocks: \n",
      "BoA_Checking: \n",
      "Ally_Checking: \n",
      "Ally_Savings: \n",
      "CreditCard_BoA: \n",
      "CreditCard_Amex_Personal: \n",
      "CreditCard_Amex_Corporate: \n",
      "CreditCard_Amazon: \n",
      "CreditCard_Apple: \n",
      "IdealImage_Loan: \n",
      "CreditCard_Sweetwater: \n",
      "Car_Loan: \n",
      "Home_Mortgage: \n",
      "Home_Loan_401k: \n"
     ]
    },
    {
     "ename": "TypeError",
     "evalue": "Index(...) must be called with a collection of some kind, Timestamp('2023-02-23 11:25:44.595471') was passed",
     "output_type": "error",
     "traceback": [
      "\u001b[1;31m---------------------------------------------------------------------------\u001b[0m",
      "\u001b[1;31mTypeError\u001b[0m                                 Traceback (most recent call last)",
      "\u001b[1;32m~\\AppData\\Local\\Temp\\ipykernel_26380\\937407927.py\u001b[0m in \u001b[0;36m<module>\u001b[1;34m\u001b[0m\n\u001b[1;32m----> 1\u001b[1;33m \u001b[0mrow_to_add\u001b[0m \u001b[1;33m=\u001b[0m \u001b[0mpd\u001b[0m\u001b[1;33m.\u001b[0m\u001b[0mDataFrame\u001b[0m\u001b[1;33m(\u001b[0m\u001b[0maccount_balance_prompt\u001b[0m\u001b[1;33m(\u001b[0m\u001b[0mfields\u001b[0m \u001b[1;33m=\u001b[0m \u001b[0maccount_hierarchy\u001b[0m\u001b[1;33m[\u001b[0m\u001b[1;34m'column_names'\u001b[0m\u001b[1;33m]\u001b[0m\u001b[1;33m)\u001b[0m\u001b[1;33m,\u001b[0m \u001b[0mindex\u001b[0m \u001b[1;33m=\u001b[0m \u001b[0mpd\u001b[0m\u001b[1;33m.\u001b[0m\u001b[0mTimestamp\u001b[0m\u001b[1;33m.\u001b[0m\u001b[0mtoday\u001b[0m\u001b[1;33m(\u001b[0m\u001b[1;33m)\u001b[0m\u001b[1;33m)\u001b[0m\u001b[1;33m\u001b[0m\u001b[1;33m\u001b[0m\u001b[0m\n\u001b[0m",
      "\u001b[1;32mC:\\ProgramData\\Anaconda3_correct\\lib\\site-packages\\pandas\\core\\frame.py\u001b[0m in \u001b[0;36m__init__\u001b[1;34m(self, data, index, columns, dtype, copy)\u001b[0m\n\u001b[0;32m    634\u001b[0m         \u001b[1;32melif\u001b[0m \u001b[0misinstance\u001b[0m\u001b[1;33m(\u001b[0m\u001b[0mdata\u001b[0m\u001b[1;33m,\u001b[0m \u001b[0mdict\u001b[0m\u001b[1;33m)\u001b[0m\u001b[1;33m:\u001b[0m\u001b[1;33m\u001b[0m\u001b[1;33m\u001b[0m\u001b[0m\n\u001b[0;32m    635\u001b[0m             \u001b[1;31m# GH#38939 de facto copy defaults to False only in non-dict cases\u001b[0m\u001b[1;33m\u001b[0m\u001b[1;33m\u001b[0m\u001b[0m\n\u001b[1;32m--> 636\u001b[1;33m             \u001b[0mmgr\u001b[0m \u001b[1;33m=\u001b[0m \u001b[0mdict_to_mgr\u001b[0m\u001b[1;33m(\u001b[0m\u001b[0mdata\u001b[0m\u001b[1;33m,\u001b[0m \u001b[0mindex\u001b[0m\u001b[1;33m,\u001b[0m \u001b[0mcolumns\u001b[0m\u001b[1;33m,\u001b[0m \u001b[0mdtype\u001b[0m\u001b[1;33m=\u001b[0m\u001b[0mdtype\u001b[0m\u001b[1;33m,\u001b[0m \u001b[0mcopy\u001b[0m\u001b[1;33m=\u001b[0m\u001b[0mcopy\u001b[0m\u001b[1;33m,\u001b[0m \u001b[0mtyp\u001b[0m\u001b[1;33m=\u001b[0m\u001b[0mmanager\u001b[0m\u001b[1;33m)\u001b[0m\u001b[1;33m\u001b[0m\u001b[1;33m\u001b[0m\u001b[0m\n\u001b[0m\u001b[0;32m    637\u001b[0m         \u001b[1;32melif\u001b[0m \u001b[0misinstance\u001b[0m\u001b[1;33m(\u001b[0m\u001b[0mdata\u001b[0m\u001b[1;33m,\u001b[0m \u001b[0mma\u001b[0m\u001b[1;33m.\u001b[0m\u001b[0mMaskedArray\u001b[0m\u001b[1;33m)\u001b[0m\u001b[1;33m:\u001b[0m\u001b[1;33m\u001b[0m\u001b[1;33m\u001b[0m\u001b[0m\n\u001b[0;32m    638\u001b[0m             \u001b[1;32mimport\u001b[0m \u001b[0mnumpy\u001b[0m\u001b[1;33m.\u001b[0m\u001b[0mma\u001b[0m\u001b[1;33m.\u001b[0m\u001b[0mmrecords\u001b[0m \u001b[1;32mas\u001b[0m \u001b[0mmrecords\u001b[0m\u001b[1;33m\u001b[0m\u001b[1;33m\u001b[0m\u001b[0m\n",
      "\u001b[1;32mC:\\ProgramData\\Anaconda3_correct\\lib\\site-packages\\pandas\\core\\internals\\construction.py\u001b[0m in \u001b[0;36mdict_to_mgr\u001b[1;34m(data, index, columns, dtype, typ, copy)\u001b[0m\n\u001b[0;32m    500\u001b[0m         \u001b[1;31m# TODO: can we get rid of the dt64tz special case above?\u001b[0m\u001b[1;33m\u001b[0m\u001b[1;33m\u001b[0m\u001b[0m\n\u001b[0;32m    501\u001b[0m \u001b[1;33m\u001b[0m\u001b[0m\n\u001b[1;32m--> 502\u001b[1;33m     \u001b[1;32mreturn\u001b[0m \u001b[0marrays_to_mgr\u001b[0m\u001b[1;33m(\u001b[0m\u001b[0marrays\u001b[0m\u001b[1;33m,\u001b[0m \u001b[0mcolumns\u001b[0m\u001b[1;33m,\u001b[0m \u001b[0mindex\u001b[0m\u001b[1;33m,\u001b[0m \u001b[0mdtype\u001b[0m\u001b[1;33m=\u001b[0m\u001b[0mdtype\u001b[0m\u001b[1;33m,\u001b[0m \u001b[0mtyp\u001b[0m\u001b[1;33m=\u001b[0m\u001b[0mtyp\u001b[0m\u001b[1;33m,\u001b[0m \u001b[0mconsolidate\u001b[0m\u001b[1;33m=\u001b[0m\u001b[0mcopy\u001b[0m\u001b[1;33m)\u001b[0m\u001b[1;33m\u001b[0m\u001b[1;33m\u001b[0m\u001b[0m\n\u001b[0m\u001b[0;32m    503\u001b[0m \u001b[1;33m\u001b[0m\u001b[0m\n\u001b[0;32m    504\u001b[0m \u001b[1;33m\u001b[0m\u001b[0m\n",
      "\u001b[1;32mC:\\ProgramData\\Anaconda3_correct\\lib\\site-packages\\pandas\\core\\internals\\construction.py\u001b[0m in \u001b[0;36marrays_to_mgr\u001b[1;34m(arrays, columns, index, dtype, verify_integrity, typ, consolidate)\u001b[0m\n\u001b[0;32m    120\u001b[0m             \u001b[0mindex\u001b[0m \u001b[1;33m=\u001b[0m \u001b[0m_extract_index\u001b[0m\u001b[1;33m(\u001b[0m\u001b[0marrays\u001b[0m\u001b[1;33m)\u001b[0m\u001b[1;33m\u001b[0m\u001b[1;33m\u001b[0m\u001b[0m\n\u001b[0;32m    121\u001b[0m         \u001b[1;32melse\u001b[0m\u001b[1;33m:\u001b[0m\u001b[1;33m\u001b[0m\u001b[1;33m\u001b[0m\u001b[0m\n\u001b[1;32m--> 122\u001b[1;33m             \u001b[0mindex\u001b[0m \u001b[1;33m=\u001b[0m \u001b[0mensure_index\u001b[0m\u001b[1;33m(\u001b[0m\u001b[0mindex\u001b[0m\u001b[1;33m)\u001b[0m\u001b[1;33m\u001b[0m\u001b[1;33m\u001b[0m\u001b[0m\n\u001b[0m\u001b[0;32m    123\u001b[0m \u001b[1;33m\u001b[0m\u001b[0m\n\u001b[0;32m    124\u001b[0m         \u001b[1;31m# don't force copy because getting jammed in an ndarray anyway\u001b[0m\u001b[1;33m\u001b[0m\u001b[1;33m\u001b[0m\u001b[0m\n",
      "\u001b[1;32mC:\\ProgramData\\Anaconda3_correct\\lib\\site-packages\\pandas\\core\\indexes\\base.py\u001b[0m in \u001b[0;36mensure_index\u001b[1;34m(index_like, copy)\u001b[0m\n\u001b[0;32m   7058\u001b[0m             \u001b[1;32mreturn\u001b[0m \u001b[0mIndex\u001b[0m\u001b[1;33m.\u001b[0m\u001b[0m_with_infer\u001b[0m\u001b[1;33m(\u001b[0m\u001b[0mindex_like\u001b[0m\u001b[1;33m,\u001b[0m \u001b[0mcopy\u001b[0m\u001b[1;33m=\u001b[0m\u001b[0mcopy\u001b[0m\u001b[1;33m,\u001b[0m \u001b[0mtupleize_cols\u001b[0m\u001b[1;33m=\u001b[0m\u001b[1;32mFalse\u001b[0m\u001b[1;33m)\u001b[0m\u001b[1;33m\u001b[0m\u001b[1;33m\u001b[0m\u001b[0m\n\u001b[0;32m   7059\u001b[0m     \u001b[1;32melse\u001b[0m\u001b[1;33m:\u001b[0m\u001b[1;33m\u001b[0m\u001b[1;33m\u001b[0m\u001b[0m\n\u001b[1;32m-> 7060\u001b[1;33m         \u001b[1;32mreturn\u001b[0m \u001b[0mIndex\u001b[0m\u001b[1;33m.\u001b[0m\u001b[0m_with_infer\u001b[0m\u001b[1;33m(\u001b[0m\u001b[0mindex_like\u001b[0m\u001b[1;33m,\u001b[0m \u001b[0mcopy\u001b[0m\u001b[1;33m=\u001b[0m\u001b[0mcopy\u001b[0m\u001b[1;33m)\u001b[0m\u001b[1;33m\u001b[0m\u001b[1;33m\u001b[0m\u001b[0m\n\u001b[0m\u001b[0;32m   7061\u001b[0m \u001b[1;33m\u001b[0m\u001b[0m\n\u001b[0;32m   7062\u001b[0m \u001b[1;33m\u001b[0m\u001b[0m\n",
      "\u001b[1;32mC:\\ProgramData\\Anaconda3_correct\\lib\\site-packages\\pandas\\core\\indexes\\base.py\u001b[0m in \u001b[0;36m_with_infer\u001b[1;34m(cls, *args, **kwargs)\u001b[0m\n\u001b[0;32m    678\u001b[0m         \u001b[1;32mwith\u001b[0m \u001b[0mwarnings\u001b[0m\u001b[1;33m.\u001b[0m\u001b[0mcatch_warnings\u001b[0m\u001b[1;33m(\u001b[0m\u001b[1;33m)\u001b[0m\u001b[1;33m:\u001b[0m\u001b[1;33m\u001b[0m\u001b[1;33m\u001b[0m\u001b[0m\n\u001b[0;32m    679\u001b[0m             \u001b[0mwarnings\u001b[0m\u001b[1;33m.\u001b[0m\u001b[0mfilterwarnings\u001b[0m\u001b[1;33m(\u001b[0m\u001b[1;34m\"ignore\"\u001b[0m\u001b[1;33m,\u001b[0m \u001b[1;34m\".*the Index constructor\"\u001b[0m\u001b[1;33m,\u001b[0m \u001b[0mFutureWarning\u001b[0m\u001b[1;33m)\u001b[0m\u001b[1;33m\u001b[0m\u001b[1;33m\u001b[0m\u001b[0m\n\u001b[1;32m--> 680\u001b[1;33m             \u001b[0mresult\u001b[0m \u001b[1;33m=\u001b[0m \u001b[0mcls\u001b[0m\u001b[1;33m(\u001b[0m\u001b[1;33m*\u001b[0m\u001b[0margs\u001b[0m\u001b[1;33m,\u001b[0m \u001b[1;33m**\u001b[0m\u001b[0mkwargs\u001b[0m\u001b[1;33m)\u001b[0m\u001b[1;33m\u001b[0m\u001b[1;33m\u001b[0m\u001b[0m\n\u001b[0m\u001b[0;32m    681\u001b[0m \u001b[1;33m\u001b[0m\u001b[0m\n\u001b[0;32m    682\u001b[0m         \u001b[1;32mif\u001b[0m \u001b[0mresult\u001b[0m\u001b[1;33m.\u001b[0m\u001b[0mdtype\u001b[0m \u001b[1;33m==\u001b[0m \u001b[0m_dtype_obj\u001b[0m \u001b[1;32mand\u001b[0m \u001b[1;32mnot\u001b[0m \u001b[0mresult\u001b[0m\u001b[1;33m.\u001b[0m\u001b[0m_is_multi\u001b[0m\u001b[1;33m:\u001b[0m\u001b[1;33m\u001b[0m\u001b[1;33m\u001b[0m\u001b[0m\n",
      "\u001b[1;32mC:\\ProgramData\\Anaconda3_correct\\lib\\site-packages\\pandas\\core\\indexes\\base.py\u001b[0m in \u001b[0;36m__new__\u001b[1;34m(cls, data, dtype, copy, name, tupleize_cols, **kwargs)\u001b[0m\n\u001b[0;32m    506\u001b[0m \u001b[1;33m\u001b[0m\u001b[0m\n\u001b[0;32m    507\u001b[0m         \u001b[1;32melif\u001b[0m \u001b[0mis_scalar\u001b[0m\u001b[1;33m(\u001b[0m\u001b[0mdata\u001b[0m\u001b[1;33m)\u001b[0m\u001b[1;33m:\u001b[0m\u001b[1;33m\u001b[0m\u001b[1;33m\u001b[0m\u001b[0m\n\u001b[1;32m--> 508\u001b[1;33m             \u001b[1;32mraise\u001b[0m \u001b[0mcls\u001b[0m\u001b[1;33m.\u001b[0m\u001b[0m_scalar_data_error\u001b[0m\u001b[1;33m(\u001b[0m\u001b[0mdata\u001b[0m\u001b[1;33m)\u001b[0m\u001b[1;33m\u001b[0m\u001b[1;33m\u001b[0m\u001b[0m\n\u001b[0m\u001b[0;32m    509\u001b[0m         \u001b[1;32melif\u001b[0m \u001b[0mhasattr\u001b[0m\u001b[1;33m(\u001b[0m\u001b[0mdata\u001b[0m\u001b[1;33m,\u001b[0m \u001b[1;34m\"__array__\"\u001b[0m\u001b[1;33m)\u001b[0m\u001b[1;33m:\u001b[0m\u001b[1;33m\u001b[0m\u001b[1;33m\u001b[0m\u001b[0m\n\u001b[0;32m    510\u001b[0m             \u001b[1;32mreturn\u001b[0m \u001b[0mIndex\u001b[0m\u001b[1;33m(\u001b[0m\u001b[0mnp\u001b[0m\u001b[1;33m.\u001b[0m\u001b[0masarray\u001b[0m\u001b[1;33m(\u001b[0m\u001b[0mdata\u001b[0m\u001b[1;33m)\u001b[0m\u001b[1;33m,\u001b[0m \u001b[0mdtype\u001b[0m\u001b[1;33m=\u001b[0m\u001b[0mdtype\u001b[0m\u001b[1;33m,\u001b[0m \u001b[0mcopy\u001b[0m\u001b[1;33m=\u001b[0m\u001b[0mcopy\u001b[0m\u001b[1;33m,\u001b[0m \u001b[0mname\u001b[0m\u001b[1;33m=\u001b[0m\u001b[0mname\u001b[0m\u001b[1;33m,\u001b[0m \u001b[1;33m**\u001b[0m\u001b[0mkwargs\u001b[0m\u001b[1;33m)\u001b[0m\u001b[1;33m\u001b[0m\u001b[1;33m\u001b[0m\u001b[0m\n",
      "\u001b[1;31mTypeError\u001b[0m: Index(...) must be called with a collection of some kind, Timestamp('2023-02-23 11:25:44.595471') was passed"
     ]
    }
   ],
   "source": [
    "row_to_add = pd.DataFrame(account_balance_prompt(fields = account_hierarchy['column_names']), index = pd.Timestamp.today())"
   ]
  },
  {
   "cell_type": "code",
   "execution_count": 4,
   "id": "cf72fb98",
   "metadata": {},
   "outputs": [
    {
     "ename": "AttributeError",
     "evalue": "'UserInfoDialog' object has no attribute 'results'",
     "output_type": "error",
     "traceback": [
      "\u001b[1;31m---------------------------------------------------------------------------\u001b[0m",
      "\u001b[1;31mAttributeError\u001b[0m                            Traceback (most recent call last)",
      "\u001b[1;32m~\\AppData\\Local\\Temp\\ipykernel_18860\\1023632649.py\u001b[0m in \u001b[0;36m<module>\u001b[1;34m\u001b[0m\n\u001b[0;32m     24\u001b[0m \u001b[0mdialog\u001b[0m \u001b[1;33m=\u001b[0m \u001b[0mUserInfoDialog\u001b[0m\u001b[1;33m(\u001b[0m\u001b[0mroot\u001b[0m\u001b[1;33m,\u001b[0m \u001b[1;34m\"User Information\"\u001b[0m\u001b[1;33m,\u001b[0m \u001b[0mcolumn_names\u001b[0m\u001b[1;33m)\u001b[0m\u001b[1;33m\u001b[0m\u001b[1;33m\u001b[0m\u001b[0m\n\u001b[0;32m     25\u001b[0m \u001b[1;33m\u001b[0m\u001b[0m\n\u001b[1;32m---> 26\u001b[1;33m \u001b[1;32mif\u001b[0m \u001b[0mdialog\u001b[0m\u001b[1;33m.\u001b[0m\u001b[0mresults\u001b[0m \u001b[1;32mis\u001b[0m \u001b[1;32mnot\u001b[0m \u001b[1;32mNone\u001b[0m\u001b[1;33m:\u001b[0m\u001b[1;33m\u001b[0m\u001b[1;33m\u001b[0m\u001b[0m\n\u001b[0m\u001b[0;32m     27\u001b[0m     \u001b[0mprint\u001b[0m\u001b[1;33m(\u001b[0m\u001b[1;34m\"Results:\"\u001b[0m\u001b[1;33m)\u001b[0m\u001b[1;33m\u001b[0m\u001b[1;33m\u001b[0m\u001b[0m\n\u001b[0;32m     28\u001b[0m     \u001b[1;32mfor\u001b[0m \u001b[0mcolumn_name\u001b[0m \u001b[1;32min\u001b[0m \u001b[0mcolumn_names\u001b[0m\u001b[1;33m:\u001b[0m\u001b[1;33m\u001b[0m\u001b[1;33m\u001b[0m\u001b[0m\n",
      "\u001b[1;31mAttributeError\u001b[0m: 'UserInfoDialog' object has no attribute 'results'"
     ]
    }
   ],
   "source": [
    "class UserInfoDialog(simpledialog.Dialog):\n",
    "    def __init__(self, parent, title, fields):\n",
    "        self.fields = fields\n",
    "        simpledialog.Dialog.__init__(self, parent, title)\n",
    "\n",
    "    def body(self, master):\n",
    "        self.entries = []\n",
    "        for i, field in enumerate(self.fields):\n",
    "            tk.Label(master, text=field+\":\").grid(row=i)\n",
    "            entry = tk.Entry(master)\n",
    "            entry.grid(row=i, column=1)\n",
    "            self.entries.append(entry)\n",
    "        return self.entries[0]  # initial focus\n",
    "\n",
    "    def apply(self):\n",
    "        self.results = {}\n",
    "        for entry, field in zip(self.entries, self.fields):\n",
    "            self.results[field] = entry.get()\n",
    "\n",
    "root = tk.Tk()\n",
    "root.withdraw()\n",
    "\n",
    "\n",
    "dialog = UserInfoDialog(root, \"User Information\", column_names)\n",
    "\n",
    "if dialog.results is not None:\n",
    "    print(\"Results:\")\n",
    "    for column_name in column_names:\n",
    "        print(\"{}: {}\".format(column_name, dialog.results[column_name]))\n",
    "else:\n",
    "    print(\"You cancelled the input\")\n",
    "\n",
    "root.destroy()"
   ]
  },
  {
   "cell_type": "code",
   "execution_count": 19,
   "id": "87c8f9c4",
   "metadata": {},
   "outputs": [
    {
     "data": {
      "text/plain": [
       "{'Porsche_401k': '1',\n",
       " 'BCG_401k': '2',\n",
       " 'Home_Value': '3',\n",
       " 'Car': '4',\n",
       " 'GKW_Value': '5',\n",
       " 'Coinbase': '6',\n",
       " 'Ally_Stocks': '7',\n",
       " 'BoA_Checking': '8',\n",
       " 'Ally_Checking': '9',\n",
       " 'Ally_Savings': '10',\n",
       " 'CreditCard_BoA': '11',\n",
       " 'CreditCard_Amex_Personal': '',\n",
       " 'CreditCard_Amex_Corporate': '',\n",
       " 'CreditCard_Amazon': '',\n",
       " 'CreditCard_Apple': '',\n",
       " 'IdealImage_Loan': '',\n",
       " 'CreditCard_Sweetwater': '',\n",
       " 'Car_Loan': '',\n",
       " 'Home_Mortgage': '',\n",
       " 'Home_Loan_401k': ''}"
      ]
     },
     "execution_count": 19,
     "metadata": {},
     "output_type": "execute_result"
    }
   ],
   "source": [
    "dialog.results\n",
    "# dialog.fields"
   ]
  },
  {
   "cell_type": "code",
   "execution_count": 15,
   "id": "87b5cb88",
   "metadata": {},
   "outputs": [
    {
     "ename": "AttributeError",
     "evalue": "'UserInfoDialog' object has no attribute 'results'",
     "output_type": "error",
     "traceback": [
      "\u001b[1;31m---------------------------------------------------------------------------\u001b[0m",
      "\u001b[1;31mAttributeError\u001b[0m                            Traceback (most recent call last)",
      "\u001b[1;32m~\\AppData\\Local\\Temp\\ipykernel_26380\\4222683309.py\u001b[0m in \u001b[0;36m<module>\u001b[1;34m\u001b[0m\n\u001b[1;32m----> 1\u001b[1;33m \u001b[0mprint\u001b[0m\u001b[1;33m(\u001b[0m\u001b[0maccount_balance_prompt\u001b[0m\u001b[1;33m(\u001b[0m\u001b[0mfields\u001b[0m \u001b[1;33m=\u001b[0m \u001b[0maccount_hierarchy\u001b[0m\u001b[1;33m[\u001b[0m\u001b[1;34m'column_names'\u001b[0m\u001b[1;33m]\u001b[0m\u001b[1;33m)\u001b[0m\u001b[1;33m)\u001b[0m\u001b[1;33m\u001b[0m\u001b[1;33m\u001b[0m\u001b[0m\n\u001b[0m",
      "\u001b[1;32m~\\AppData\\Local\\Temp\\ipykernel_26380\\3005863413.py\u001b[0m in \u001b[0;36maccount_balance_prompt\u001b[1;34m(fields)\u001b[0m\n\u001b[0;32m     31\u001b[0m     \u001b[0mdialog\u001b[0m \u001b[1;33m=\u001b[0m \u001b[0mUserInfoDialog\u001b[0m\u001b[1;33m(\u001b[0m\u001b[0mroot\u001b[0m\u001b[1;33m,\u001b[0m \u001b[1;34m\"User Information\"\u001b[0m\u001b[1;33m,\u001b[0m \u001b[0mcolumn_names\u001b[0m\u001b[1;33m)\u001b[0m\u001b[1;33m\u001b[0m\u001b[1;33m\u001b[0m\u001b[0m\n\u001b[0;32m     32\u001b[0m \u001b[1;33m\u001b[0m\u001b[0m\n\u001b[1;32m---> 33\u001b[1;33m     \u001b[1;32mif\u001b[0m \u001b[0mdialog\u001b[0m\u001b[1;33m.\u001b[0m\u001b[0mresults\u001b[0m \u001b[1;32mis\u001b[0m \u001b[1;32mnot\u001b[0m \u001b[1;32mNone\u001b[0m\u001b[1;33m:\u001b[0m\u001b[1;33m\u001b[0m\u001b[1;33m\u001b[0m\u001b[0m\n\u001b[0m\u001b[0;32m     34\u001b[0m         \u001b[0mprint\u001b[0m\u001b[1;33m(\u001b[0m\u001b[1;34m\"Results:\"\u001b[0m\u001b[1;33m)\u001b[0m\u001b[1;33m\u001b[0m\u001b[1;33m\u001b[0m\u001b[0m\n\u001b[0;32m     35\u001b[0m         \u001b[1;32mfor\u001b[0m \u001b[0mcolumn_name\u001b[0m \u001b[1;32min\u001b[0m \u001b[0mcolumn_names\u001b[0m\u001b[1;33m:\u001b[0m\u001b[1;33m\u001b[0m\u001b[1;33m\u001b[0m\u001b[0m\n",
      "\u001b[1;31mAttributeError\u001b[0m: 'UserInfoDialog' object has no attribute 'results'"
     ]
    }
   ],
   "source": [
    "print(account_balance_prompt(fields = account_hierarchy['column_names']))"
   ]
  },
  {
   "cell_type": "code",
   "execution_count": 7,
   "id": "a3972974",
   "metadata": {},
   "outputs": [
    {
     "name": "stdout",
     "output_type": "stream",
     "text": [
      "Results:\n",
      "Porsche_401k: 1\n",
      "BCG_401k: 2\n",
      "Home_Value: 3\n",
      "Car: 4\n",
      "GKW_Value: 5\n",
      "Coinbase: 6\n",
      "Ally_Stocks: 7\n",
      "BoA_Checking: 8\n",
      "Ally_Checking: 9\n",
      "Ally_Savings: 10\n",
      "CreditCard_BoA: 1\n",
      "CreditCard_Amex_Personal: 2\n",
      "CreditCard_Amex_Corporate: 3\n",
      "CreditCard_Amazon: 4\n",
      "CreditCard_Apple: 5\n",
      "IdealImage_Loan: 6\n",
      "CreditCard_Sweetwater: 7\n",
      "Car_Loan: 8\n",
      "Home_Mortgage: 9\n",
      "Home_Loan_401k: 10\n"
     ]
    }
   ],
   "source": [
    "row_to_add = account_balance_prompt(fields = account_hierarchy['column_names'])"
   ]
  }
 ],
 "metadata": {
  "kernelspec": {
   "display_name": "Python 3 (ipykernel)",
   "language": "python",
   "name": "python3"
  },
  "language_info": {
   "codemirror_mode": {
    "name": "ipython",
    "version": 3
   },
   "file_extension": ".py",
   "mimetype": "text/x-python",
   "name": "python",
   "nbconvert_exporter": "python",
   "pygments_lexer": "ipython3",
   "version": "3.9.13"
  }
 },
 "nbformat": 4,
 "nbformat_minor": 5
}
