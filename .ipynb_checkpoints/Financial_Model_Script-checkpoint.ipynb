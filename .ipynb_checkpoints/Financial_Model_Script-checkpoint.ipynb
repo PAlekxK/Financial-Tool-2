{
 "cells": [
  {
   "cell_type": "markdown",
   "metadata": {},
   "source": [
    "## Interactive Script"
   ]
  },
  {
   "cell_type": "markdown",
   "metadata": {},
   "source": [
    "### Import functions"
   ]
  },
  {
   "cell_type": "code",
   "execution_count": 1,
   "metadata": {},
   "outputs": [],
   "source": [
    "from Financial_Model_Functions import *\n",
    "import pandas as pd\n",
    "import datetime\n",
    "from datetime import date\n",
    "import os"
   ]
  },
  {
   "cell_type": "markdown",
   "metadata": {},
   "source": [
    "## Defined fields (to be replaced with .yml file)"
   ]
  },
  {
   "cell_type": "code",
   "execution_count": 2,
   "metadata": {},
   "outputs": [],
   "source": [
    "account_hierarchy = load_config()\n",
    "financial_data = pd.DataFrame(columns = account_hierarchy['column_names'])\n",
    "num_fields = len(account_hierarchy['column_names'])"
   ]
  },
  {
   "cell_type": "markdown",
   "metadata": {},
   "source": [
    "# Main Script"
   ]
  },
  {
   "cell_type": "markdown",
   "metadata": {},
   "source": [
    "### Ask user whether to load in file or start from scratch. If load is preferred, execute load"
   ]
  },
  {
   "cell_type": "code",
   "execution_count": 3,
   "metadata": {},
   "outputs": [
    {
     "name": "stdout",
     "output_type": "stream",
     "text": [
      "Hello, would you like to start from scratch (Y) or start from an existing file (N) ?\n",
      "N\n",
      "Which file would you like to use as a starting point? Please provide the file path\n",
      "I suggest a file path in the format: \n",
      "C:\\Users\\kirschenbauer paul\\Learning Material\\Financial Tool\\Financial Tool Repository\\2023-01-02_financial_data.csv2023-02-10_financial_data.csv\n",
      "\n",
      "The dataframe has 83 rows/entries\n",
      "The dataframe's most recent entry is from: 2019-06-01\n",
      "The dataframe's least recent entry is from: 2023-02-10\n",
      "\n"
     ]
    }
   ],
   "source": [
    "#Promt user to decide whether to load in a file\n",
    "print(\"Hello, would you like to start from scratch (Y) or start from an existing file (N) ?\")\n",
    "start_prompt = input()\n",
    "if start_prompt == \"Y\":\n",
    "    print(\"OK, let's get this show on the road.\")\n",
    "elif start_prompt == \"N\":\n",
    "    #retrieve starting file path from user input and read in financial_data df from csv at specified file location\n",
    "    financial_data, starNting_file_path = load_starting_csv(account_hierarchy['column_names'])\n",
    "else:\n",
    "    print(\"input error\")"
   ]
  },
  {
   "cell_type": "markdown",
   "metadata": {},
   "source": [
    "## Prompt user to add new data (new)"
   ]
  },
  {
   "cell_type": "code",
   "execution_count": 4,
   "metadata": {},
   "outputs": [
    {
     "name": "stdout",
     "output_type": "stream",
     "text": [
      "Hello, would you like to add new data?\n",
      "Y\n",
      "OK Great. Let's get started!\n",
      "Results:\n",
      "Porsche_401k: 4\n",
      "BCG_401k: 4\n",
      "Home_Value: 4\n",
      "Car: 4\n",
      "GKW_Value: 4\n",
      "Coinbase: 4\n",
      "Ally_Stocks: 4\n",
      "BoA_Checking: 4\n",
      "Ally_Checking: 4\n",
      "Ally_Savings: 4\n",
      "CreditCard_BoA: 4\n",
      "CreditCard_Amex_Personal: 4\n",
      "CreditCard_Amex_Corporate: 4\n",
      "CreditCard_Amazon: 4\n",
      "CreditCard_Apple: 4\n",
      "IdealImage_Loan: 4\n",
      "CreditCard_Sweetwater: 4\n",
      "Car_Loan: 4\n",
      "Home_Mortgage: 4\n",
      "Home_Loan_401k: \n",
      "\n",
      "Would you like to add more?\n",
      "N\n"
     ]
    }
   ],
   "source": [
    "# print(\"\")\n",
    "print(\"Hello, would you like to add new data?\")\n",
    "new_data_input=input()\n",
    "if new_data_input == \"Y\":\n",
    "    #call function to create input prompt, resulting in a DF\n",
    "    i = 0\n",
    "    while i == 0:\n",
    "        print(\"OK Great. Let's get started!\")\n",
    "        row_to_add = pd.DataFrame(list(account_balance_prompt(fields = account_hierarchy['column_names']).items()))\n",
    "        \n",
    "        #Transpose df\n",
    "        row_to_add = row_to_add.T\n",
    "        # Copy first row to column headers\n",
    "        row_to_add.columns = row_to_add.iloc[0]\n",
    "        # Delete first row\n",
    "        row_to_add.drop([0],inplace = True)\n",
    "        # Add date to dataframe\n",
    "        row_to_add['Date'] = date.today()\n",
    "        #Set date as index\n",
    "        row_to_add.set_index('Date')\n",
    "        #Replace empty inputs with 0\n",
    "        row_to_add = row_to_add.replace('',0)\n",
    "        \n",
    "        financial_data = pd.concat([financial_data, row_to_add])    \n",
    "        print(\"\")\n",
    "        print(\"Would you like to add more?\")\n",
    "        if input() == \"Y\":\n",
    "            i = 0\n",
    "        else:\n",
    "            i = 1"
   ]
  },
  {
   "cell_type": "code",
   "execution_count": 5,
   "metadata": {},
   "outputs": [
    {
     "data": {
      "text/html": [
       "<div>\n",
       "<style scoped>\n",
       "    .dataframe tbody tr th:only-of-type {\n",
       "        vertical-align: middle;\n",
       "    }\n",
       "\n",
       "    .dataframe tbody tr th {\n",
       "        vertical-align: top;\n",
       "    }\n",
       "\n",
       "    .dataframe thead th {\n",
       "        text-align: right;\n",
       "    }\n",
       "</style>\n",
       "<table border=\"1\" class=\"dataframe\">\n",
       "  <thead>\n",
       "    <tr style=\"text-align: right;\">\n",
       "      <th></th>\n",
       "      <th>Date</th>\n",
       "      <th>Porsche_401k</th>\n",
       "      <th>BCG_401k</th>\n",
       "      <th>Home_Value</th>\n",
       "      <th>Car</th>\n",
       "      <th>GKW_Value</th>\n",
       "      <th>Coinbase</th>\n",
       "      <th>Ally_Stocks</th>\n",
       "      <th>BoA_Checking</th>\n",
       "      <th>Ally_Checking</th>\n",
       "      <th>...</th>\n",
       "      <th>CreditCard_BoA</th>\n",
       "      <th>CreditCard_Amex_Personal</th>\n",
       "      <th>CreditCard_Amex_Corporate</th>\n",
       "      <th>CreditCard_Amazon</th>\n",
       "      <th>CreditCard_Apple</th>\n",
       "      <th>IdealImage_Loan</th>\n",
       "      <th>CreditCard_Sweetwater</th>\n",
       "      <th>Car_Loan</th>\n",
       "      <th>Home_Mortgage</th>\n",
       "      <th>Home_Loan_401k</th>\n",
       "    </tr>\n",
       "  </thead>\n",
       "  <tbody>\n",
       "    <tr>\n",
       "      <th>0</th>\n",
       "      <td>2019-06-01</td>\n",
       "      <td>36836.0</td>\n",
       "      <td>0.0</td>\n",
       "      <td>360000</td>\n",
       "      <td>0</td>\n",
       "      <td>0.0</td>\n",
       "      <td>0.0</td>\n",
       "      <td>3705.0</td>\n",
       "      <td>472.0</td>\n",
       "      <td>622.0</td>\n",
       "      <td>...</td>\n",
       "      <td>2410.0</td>\n",
       "      <td>3902.0</td>\n",
       "      <td>0.0</td>\n",
       "      <td>0.0</td>\n",
       "      <td>0.0</td>\n",
       "      <td>0.0</td>\n",
       "      <td>0.0</td>\n",
       "      <td>0.0</td>\n",
       "      <td>264800.0</td>\n",
       "      <td>18000.00</td>\n",
       "    </tr>\n",
       "    <tr>\n",
       "      <th>1</th>\n",
       "      <td>2019-07-02</td>\n",
       "      <td>39631.0</td>\n",
       "      <td>0.0</td>\n",
       "      <td>360000</td>\n",
       "      <td>0</td>\n",
       "      <td>0.0</td>\n",
       "      <td>0.0</td>\n",
       "      <td>3788.0</td>\n",
       "      <td>1166.0</td>\n",
       "      <td>1390.0</td>\n",
       "      <td>...</td>\n",
       "      <td>1609.0</td>\n",
       "      <td>709.0</td>\n",
       "      <td>0.0</td>\n",
       "      <td>0.0</td>\n",
       "      <td>0.0</td>\n",
       "      <td>0.0</td>\n",
       "      <td>0.0</td>\n",
       "      <td>0.0</td>\n",
       "      <td>263691.0</td>\n",
       "      <td>18000.00</td>\n",
       "    </tr>\n",
       "    <tr>\n",
       "      <th>2</th>\n",
       "      <td>2019-08-06</td>\n",
       "      <td>39903.0</td>\n",
       "      <td>0.0</td>\n",
       "      <td>360000</td>\n",
       "      <td>0</td>\n",
       "      <td>0.0</td>\n",
       "      <td>0.0</td>\n",
       "      <td>3354.0</td>\n",
       "      <td>106.0</td>\n",
       "      <td>2211.0</td>\n",
       "      <td>...</td>\n",
       "      <td>858.0</td>\n",
       "      <td>168.0</td>\n",
       "      <td>0.0</td>\n",
       "      <td>0.0</td>\n",
       "      <td>0.0</td>\n",
       "      <td>0.0</td>\n",
       "      <td>0.0</td>\n",
       "      <td>0.0</td>\n",
       "      <td>262578.0</td>\n",
       "      <td>17753.00</td>\n",
       "    </tr>\n",
       "    <tr>\n",
       "      <th>3</th>\n",
       "      <td>2019-09-03</td>\n",
       "      <td>41993.0</td>\n",
       "      <td>0.0</td>\n",
       "      <td>360000</td>\n",
       "      <td>0</td>\n",
       "      <td>0.0</td>\n",
       "      <td>0.0</td>\n",
       "      <td>2877.0</td>\n",
       "      <td>547.0</td>\n",
       "      <td>727.0</td>\n",
       "      <td>...</td>\n",
       "      <td>1463.0</td>\n",
       "      <td>84.0</td>\n",
       "      <td>0.0</td>\n",
       "      <td>0.0</td>\n",
       "      <td>0.0</td>\n",
       "      <td>0.0</td>\n",
       "      <td>0.0</td>\n",
       "      <td>0.0</td>\n",
       "      <td>261462.0</td>\n",
       "      <td>17653.00</td>\n",
       "    </tr>\n",
       "    <tr>\n",
       "      <th>4</th>\n",
       "      <td>2019-09-09</td>\n",
       "      <td>42762.0</td>\n",
       "      <td>0.0</td>\n",
       "      <td>360000</td>\n",
       "      <td>0</td>\n",
       "      <td>0.0</td>\n",
       "      <td>0.0</td>\n",
       "      <td>2693.0</td>\n",
       "      <td>1681.0</td>\n",
       "      <td>2497.0</td>\n",
       "      <td>...</td>\n",
       "      <td>2338.0</td>\n",
       "      <td>197.0</td>\n",
       "      <td>0.0</td>\n",
       "      <td>0.0</td>\n",
       "      <td>0.0</td>\n",
       "      <td>0.0</td>\n",
       "      <td>0.0</td>\n",
       "      <td>0.0</td>\n",
       "      <td>261462.0</td>\n",
       "      <td>17653.00</td>\n",
       "    </tr>\n",
       "    <tr>\n",
       "      <th>...</th>\n",
       "      <td>...</td>\n",
       "      <td>...</td>\n",
       "      <td>...</td>\n",
       "      <td>...</td>\n",
       "      <td>...</td>\n",
       "      <td>...</td>\n",
       "      <td>...</td>\n",
       "      <td>...</td>\n",
       "      <td>...</td>\n",
       "      <td>...</td>\n",
       "      <td>...</td>\n",
       "      <td>...</td>\n",
       "      <td>...</td>\n",
       "      <td>...</td>\n",
       "      <td>...</td>\n",
       "      <td>...</td>\n",
       "      <td>...</td>\n",
       "      <td>...</td>\n",
       "      <td>...</td>\n",
       "      <td>...</td>\n",
       "      <td>...</td>\n",
       "    </tr>\n",
       "    <tr>\n",
       "      <th>79</th>\n",
       "      <td>2023-01-04</td>\n",
       "      <td>90090.11</td>\n",
       "      <td>40422.91</td>\n",
       "      <td>360000</td>\n",
       "      <td>20000</td>\n",
       "      <td>32907.27</td>\n",
       "      <td>1704.91</td>\n",
       "      <td>24033.46</td>\n",
       "      <td>6992.99</td>\n",
       "      <td>1393.96</td>\n",
       "      <td>...</td>\n",
       "      <td>125.07</td>\n",
       "      <td>6320.0</td>\n",
       "      <td>237.1</td>\n",
       "      <td>1563.11</td>\n",
       "      <td>0.0</td>\n",
       "      <td>687.2</td>\n",
       "      <td>730.4</td>\n",
       "      <td>7612.4</td>\n",
       "      <td>224701.03</td>\n",
       "      <td>12619.17</td>\n",
       "    </tr>\n",
       "    <tr>\n",
       "      <th>80</th>\n",
       "      <td>2023-01-13</td>\n",
       "      <td>95377.54</td>\n",
       "      <td>42374.19</td>\n",
       "      <td>360000</td>\n",
       "      <td>20000</td>\n",
       "      <td>32907.27</td>\n",
       "      <td>1936.15</td>\n",
       "      <td>30676.76</td>\n",
       "      <td>8990.68</td>\n",
       "      <td>2041.11</td>\n",
       "      <td>...</td>\n",
       "      <td>185.35</td>\n",
       "      <td>7255.0</td>\n",
       "      <td>363.54</td>\n",
       "      <td>1694.86</td>\n",
       "      <td>0.0</td>\n",
       "      <td>687.2</td>\n",
       "      <td>691.4</td>\n",
       "      <td>7612.4</td>\n",
       "      <td>225870.4</td>\n",
       "      <td>12619.17</td>\n",
       "    </tr>\n",
       "    <tr>\n",
       "      <th>81</th>\n",
       "      <td>2023-01-27</td>\n",
       "      <td>97753.79</td>\n",
       "      <td>44022.82</td>\n",
       "      <td>360000</td>\n",
       "      <td>20000</td>\n",
       "      <td>32907.27</td>\n",
       "      <td>2216.94</td>\n",
       "      <td>54721.52</td>\n",
       "      <td>3130.47</td>\n",
       "      <td>2062.93</td>\n",
       "      <td>...</td>\n",
       "      <td>0.0</td>\n",
       "      <td>5563.53</td>\n",
       "      <td>695.0</td>\n",
       "      <td>465.97</td>\n",
       "      <td>55.9</td>\n",
       "      <td>687.2</td>\n",
       "      <td>691.4</td>\n",
       "      <td>7612.4</td>\n",
       "      <td>225870.4</td>\n",
       "      <td>12619.17</td>\n",
       "    </tr>\n",
       "    <tr>\n",
       "      <th>82</th>\n",
       "      <td>2023-02-10</td>\n",
       "      <td>97196.03</td>\n",
       "      <td>44604.38</td>\n",
       "      <td>360000</td>\n",
       "      <td>20000</td>\n",
       "      <td>32907.27</td>\n",
       "      <td>2213.6</td>\n",
       "      <td>56196.26</td>\n",
       "      <td>4511.47</td>\n",
       "      <td>1530.36</td>\n",
       "      <td>...</td>\n",
       "      <td>448.33</td>\n",
       "      <td>438.0</td>\n",
       "      <td>0.0</td>\n",
       "      <td>495.17</td>\n",
       "      <td>266.25</td>\n",
       "      <td>631.4</td>\n",
       "      <td>652.4</td>\n",
       "      <td>7195.45</td>\n",
       "      <td>223529.4</td>\n",
       "      <td>12482.09</td>\n",
       "    </tr>\n",
       "    <tr>\n",
       "      <th>1</th>\n",
       "      <td>2023-02-24</td>\n",
       "      <td>4</td>\n",
       "      <td>4</td>\n",
       "      <td>4</td>\n",
       "      <td>4</td>\n",
       "      <td>4</td>\n",
       "      <td>4</td>\n",
       "      <td>4</td>\n",
       "      <td>4</td>\n",
       "      <td>4</td>\n",
       "      <td>...</td>\n",
       "      <td>4</td>\n",
       "      <td>4</td>\n",
       "      <td>4</td>\n",
       "      <td>4</td>\n",
       "      <td>4</td>\n",
       "      <td>4</td>\n",
       "      <td>4</td>\n",
       "      <td>4</td>\n",
       "      <td>4</td>\n",
       "      <td>0.00</td>\n",
       "    </tr>\n",
       "  </tbody>\n",
       "</table>\n",
       "<p>84 rows × 21 columns</p>\n",
       "</div>"
      ],
      "text/plain": [
       "          Date Porsche_401k  BCG_401k Home_Value    Car GKW_Value Coinbase  \\\n",
       "0   2019-06-01      36836.0       0.0     360000      0       0.0      0.0   \n",
       "1   2019-07-02      39631.0       0.0     360000      0       0.0      0.0   \n",
       "2   2019-08-06      39903.0       0.0     360000      0       0.0      0.0   \n",
       "3   2019-09-03      41993.0       0.0     360000      0       0.0      0.0   \n",
       "4   2019-09-09      42762.0       0.0     360000      0       0.0      0.0   \n",
       "..         ...          ...       ...        ...    ...       ...      ...   \n",
       "79  2023-01-04     90090.11  40422.91     360000  20000  32907.27  1704.91   \n",
       "80  2023-01-13     95377.54  42374.19     360000  20000  32907.27  1936.15   \n",
       "81  2023-01-27     97753.79  44022.82     360000  20000  32907.27  2216.94   \n",
       "82  2023-02-10     97196.03  44604.38     360000  20000  32907.27   2213.6   \n",
       "1   2023-02-24            4         4          4      4         4        4   \n",
       "\n",
       "   Ally_Stocks BoA_Checking Ally_Checking  ... CreditCard_BoA  \\\n",
       "0       3705.0        472.0         622.0  ...         2410.0   \n",
       "1       3788.0       1166.0        1390.0  ...         1609.0   \n",
       "2       3354.0        106.0        2211.0  ...          858.0   \n",
       "3       2877.0        547.0         727.0  ...         1463.0   \n",
       "4       2693.0       1681.0        2497.0  ...         2338.0   \n",
       "..         ...          ...           ...  ...            ...   \n",
       "79    24033.46      6992.99       1393.96  ...         125.07   \n",
       "80    30676.76      8990.68       2041.11  ...         185.35   \n",
       "81    54721.52      3130.47       2062.93  ...            0.0   \n",
       "82    56196.26      4511.47       1530.36  ...         448.33   \n",
       "1            4            4             4  ...              4   \n",
       "\n",
       "   CreditCard_Amex_Personal CreditCard_Amex_Corporate CreditCard_Amazon  \\\n",
       "0                    3902.0                       0.0               0.0   \n",
       "1                     709.0                       0.0               0.0   \n",
       "2                     168.0                       0.0               0.0   \n",
       "3                      84.0                       0.0               0.0   \n",
       "4                     197.0                       0.0               0.0   \n",
       "..                      ...                       ...               ...   \n",
       "79                   6320.0                     237.1           1563.11   \n",
       "80                   7255.0                    363.54           1694.86   \n",
       "81                  5563.53                     695.0            465.97   \n",
       "82                    438.0                       0.0            495.17   \n",
       "1                         4                         4                 4   \n",
       "\n",
       "   CreditCard_Apple IdealImage_Loan CreditCard_Sweetwater Car_Loan  \\\n",
       "0               0.0             0.0                   0.0      0.0   \n",
       "1               0.0             0.0                   0.0      0.0   \n",
       "2               0.0             0.0                   0.0      0.0   \n",
       "3               0.0             0.0                   0.0      0.0   \n",
       "4               0.0             0.0                   0.0      0.0   \n",
       "..              ...             ...                   ...      ...   \n",
       "79              0.0           687.2                 730.4   7612.4   \n",
       "80              0.0           687.2                 691.4   7612.4   \n",
       "81             55.9           687.2                 691.4   7612.4   \n",
       "82           266.25           631.4                 652.4  7195.45   \n",
       "1                 4               4                     4        4   \n",
       "\n",
       "   Home_Mortgage Home_Loan_401k  \n",
       "0       264800.0       18000.00  \n",
       "1       263691.0       18000.00  \n",
       "2       262578.0       17753.00  \n",
       "3       261462.0       17653.00  \n",
       "4       261462.0       17653.00  \n",
       "..           ...            ...  \n",
       "79     224701.03       12619.17  \n",
       "80      225870.4       12619.17  \n",
       "81      225870.4       12619.17  \n",
       "82      223529.4       12482.09  \n",
       "1              4           0.00  \n",
       "\n",
       "[84 rows x 21 columns]"
      ]
     },
     "execution_count": 5,
     "metadata": {},
     "output_type": "execute_result"
    }
   ],
   "source": [
    "# financial_data[\"Date\"] = financial_data[\"Date\"].date()\n",
    "# financial_data.set_index(\"Date\",inplace=True)\n",
    "financial_data"
   ]
  },
  {
   "cell_type": "markdown",
   "metadata": {},
   "source": [
    "## Save as CSV"
   ]
  },
  {
   "cell_type": "code",
   "execution_count": null,
   "metadata": {},
   "outputs": [],
   "source": [
    "try:\n",
    "    print(\"\")\n",
    "    print('Remember, the file you read in was: '+ starting_file_path)\n",
    "except:\n",
    "    print(\"\")\n",
    "print(\"Would you like to save this dataframe as: \"+str(date.today())+\"_financial_data\"+\".csv in the same folder?\")\n",
    "print(\"\")\n",
    "save_decision = input()\n",
    "if save_decision == \"Y\":\n",
    "    file_name = str(date.today())+\"_financial_data\"+\".csv\"\n",
    "    financial_data.to_csv(file_name)\n",
    "if save_decision == \"N\":\n",
    "    print(\"Ok. Understandable. Have a good day.\")"
   ]
  },
  {
   "cell_type": "markdown",
   "metadata": {},
   "source": [
    "## Prompt user to add new data (old)"
   ]
  },
  {
   "cell_type": "code",
   "execution_count": null,
   "metadata": {},
   "outputs": [],
   "source": [
    "# print(\"\")\n",
    "# print(\"Hello, would you like to add new data?\")\n",
    "# new_data_input=input()\n",
    "# if new_data_input == \"Y\":\n",
    "#     i = 0\n",
    "#     while i == 0:\n",
    "#         print(\"OK Great. Let's get started!\")\n",
    "#         add_row(financial_data, account_hierarchy['column_names'], num_fields)\n",
    "#         print(\"\")\n",
    "#         print(\"Would you like to add more?\")\n",
    "#         if input() == \"Y\":\n",
    "#             i = 0\n",
    "#         else:\n",
    "#             i = 1\n",
    "#     financial_data.set_index(financial_data[\"Date\"],inplace = True)\n",
    "#     financial_data.set_index(\"Date\",inplace=True)\n",
    "#     print(financial_data)\n",
    "#     try:\n",
    "#         print(\"\")\n",
    "#         print('Remember, the file you read in was: '+ starting_file_path)\n",
    "#     except:\n",
    "#         print(\"\")\n",
    "#     print(\"Would you like to save this dataframe as: \"+str(date.today())+\"_financial_data\"+\".csv in the same folder?\")\n",
    "#     print(\"\")\n",
    "#     save_decision = input()\n",
    "#     if save_decision == \"Y\":\n",
    "#         file_name = str(date.today())+\"_financial_data\"+\".csv\"\n",
    "#         financial_data.to_csv(file_name)\n",
    "#     if save_decision == \"N\":\n",
    "#         print(\"Ok. Understandable. Have a good day.\")\n",
    "# elif new_data_input == \"N\":\n",
    "#     print(\"Ok. Understandable. Have a good day.\")  \n",
    "# else:\n",
    "#     print(\"input error\")\n",
    "    \n"
   ]
  },
  {
   "cell_type": "code",
   "execution_count": null,
   "metadata": {},
   "outputs": [],
   "source": [
    "calculate_net_worth(financial_data, account_hierarchy['Assets'], account_hierarchy['Liabilities'])"
   ]
  },
  {
   "cell_type": "markdown",
   "metadata": {},
   "source": [
    "## Change vs. previous date and change since start of data"
   ]
  },
  {
   "cell_type": "code",
   "execution_count": null,
   "metadata": {},
   "outputs": [],
   "source": [
    "start_date = financial_data.index.min()\n",
    "end_date = financial_data.index.max()\n",
    "\n",
    "alt_start_date = financial_data.index.sort_values(ascending = False)\n",
    "alt_start_date = alt_start_date[1]\n",
    "create_summary_table(financial_data, alt_start_date, end_date)"
   ]
  },
  {
   "cell_type": "code",
   "execution_count": null,
   "metadata": {},
   "outputs": [],
   "source": [
    "# financial_data.set_index(\"Date\",inplace = True)\n",
    "start_date = financial_data.index.max()\n",
    "end_date = financial_data.index.min()\n",
    "create_summary_table(financial_data, start_date, end_date)"
   ]
  },
  {
   "cell_type": "code",
   "execution_count": null,
   "metadata": {},
   "outputs": [],
   "source": [
    "#move to YML file?\n",
    "symbols = account_hierarchy['Stocks_to_fetch']\n",
    "start = financial_data.index.min()\n",
    "end = financial_data.index.max()\n",
    "\n",
    "#fetch and apend price data for identified symbols\n",
    "financial_data_w_yf = fetch_yf_data(financial_data, symbols, start, end)\n",
    "financial_data_w_yf"
   ]
  },
  {
   "cell_type": "code",
   "execution_count": null,
   "metadata": {
    "scrolled": true
   },
   "outputs": [],
   "source": [
    "plot_time_series(financial_data_w_yf, y_dimension=\"Calculated_Net_Worth\", y_dimension_name=\"Calculated Net Worth\", plot_title= \"Net Worth Over Time\")"
   ]
  },
  {
   "cell_type": "code",
   "execution_count": null,
   "metadata": {},
   "outputs": [],
   "source": [
    "plot_time_series(financial_data_w_yf, y_dimension=\"SPY\", y_dimension_name=\"SPY\", plot_title= \"SPY Over Time\")"
   ]
  },
  {
   "cell_type": "code",
   "execution_count": null,
   "metadata": {},
   "outputs": [],
   "source": [
    "financial_data"
   ]
  },
  {
   "cell_type": "code",
   "execution_count": null,
   "metadata": {
    "scrolled": true
   },
   "outputs": [],
   "source": [
    "plot_stacked_area(financial_data, account_hierarchy, 'Assets')"
   ]
  },
  {
   "cell_type": "code",
   "execution_count": null,
   "metadata": {},
   "outputs": [],
   "source": [
    "#Want to make this work for liabilities as well by adjusting inputs\n",
    "plot_stacked_area(financial_data, account_hierarchy, 'Liabilities')"
   ]
  },
  {
   "cell_type": "code",
   "execution_count": null,
   "metadata": {},
   "outputs": [],
   "source": [
    "# financial_data.index.max()\n",
    "# financial_data.index.sort_values(ascending = False)"
   ]
  },
  {
   "cell_type": "code",
   "execution_count": null,
   "metadata": {},
   "outputs": [],
   "source": [
    "# import tkinter as tk\n",
    "\n",
    "# def show_selected_date():\n",
    "#     # get the selected date\n",
    "#     selected_date = var.get()\n",
    "#     print(\"Selected date:\", selected_date)\n",
    "#     # update the variable storing the selected date\n",
    "#     selected_date_variable.set(selected_date)\n",
    "\n",
    "# # create a sample list of dates\n",
    "# dates = financial_data.index\n",
    "\n",
    "# # create the main window\n",
    "# root = tk.Tk()\n",
    "# root.title(\"Select date\")\n",
    "\n",
    "# # create the drop-down menu\n",
    "# var = tk.StringVar(value=dates[0])\n",
    "# option = tk.OptionMenu(root, var, *dates)\n",
    "# option.pack()\n",
    "\n",
    "# # create a button to show the selected date\n",
    "# show_button = tk.Button(root, text=\"Show selected date\", command=show_selected_date)\n",
    "# show_button.pack()\n",
    "\n",
    "# # create a variable to store the selected date\n",
    "# selected_date_variable = tk.StringVar()\n",
    "\n",
    "# # start the main loop\n",
    "# root.mainloop()"
   ]
  },
  {
   "cell_type": "code",
   "execution_count": null,
   "metadata": {},
   "outputs": [],
   "source": []
  },
  {
   "cell_type": "code",
   "execution_count": null,
   "metadata": {},
   "outputs": [],
   "source": [
    "# type(alt_start_date) == type(end_date)"
   ]
  },
  {
   "cell_type": "code",
   "execution_count": null,
   "metadata": {},
   "outputs": [],
   "source": [
    "# selected_start_date"
   ]
  },
  {
   "cell_type": "code",
   "execution_count": null,
   "metadata": {},
   "outputs": [],
   "source": [
    "# start_date = financial_data.index.max()\n",
    "# end_date = financial_data.index.min()\n",
    "\n",
    "# selected_start_date = select_end_date(financial_data)\n",
    "# selected_start_date\n",
    "# create_summary_table(financial_data, selected_start_date, end_date)"
   ]
  },
  {
   "cell_type": "code",
   "execution_count": 14,
   "metadata": {},
   "outputs": [
    {
     "ename": "AttributeError",
     "evalue": "'Series' object has no attribute 'date'",
     "output_type": "error",
     "traceback": [
      "\u001b[1;31m---------------------------------------------------------------------------\u001b[0m",
      "\u001b[1;31mAttributeError\u001b[0m                            Traceback (most recent call last)",
      "\u001b[1;32m~\\AppData\\Local\\Temp\\ipykernel_8344\\2270007263.py\u001b[0m in \u001b[0;36m<module>\u001b[1;34m\u001b[0m\n\u001b[1;32m----> 1\u001b[1;33m \u001b[0mpd\u001b[0m\u001b[1;33m.\u001b[0m\u001b[0mto_datetime\u001b[0m\u001b[1;33m(\u001b[0m\u001b[0mfinancial_data\u001b[0m\u001b[1;33m[\u001b[0m\u001b[1;34m'Date'\u001b[0m\u001b[1;33m]\u001b[0m\u001b[1;33m)\u001b[0m\u001b[1;33m.\u001b[0m\u001b[0mdate\u001b[0m\u001b[1;33m(\u001b[0m\u001b[1;33m)\u001b[0m\u001b[1;33m\u001b[0m\u001b[1;33m\u001b[0m\u001b[0m\n\u001b[0m",
      "\u001b[1;32mC:\\ProgramData\\Anaconda3_correct\\lib\\site-packages\\pandas\\core\\generic.py\u001b[0m in \u001b[0;36m__getattr__\u001b[1;34m(self, name)\u001b[0m\n\u001b[0;32m   5573\u001b[0m         ):\n\u001b[0;32m   5574\u001b[0m             \u001b[1;32mreturn\u001b[0m \u001b[0mself\u001b[0m\u001b[1;33m[\u001b[0m\u001b[0mname\u001b[0m\u001b[1;33m]\u001b[0m\u001b[1;33m\u001b[0m\u001b[1;33m\u001b[0m\u001b[0m\n\u001b[1;32m-> 5575\u001b[1;33m         \u001b[1;32mreturn\u001b[0m \u001b[0mobject\u001b[0m\u001b[1;33m.\u001b[0m\u001b[0m__getattribute__\u001b[0m\u001b[1;33m(\u001b[0m\u001b[0mself\u001b[0m\u001b[1;33m,\u001b[0m \u001b[0mname\u001b[0m\u001b[1;33m)\u001b[0m\u001b[1;33m\u001b[0m\u001b[1;33m\u001b[0m\u001b[0m\n\u001b[0m\u001b[0;32m   5576\u001b[0m \u001b[1;33m\u001b[0m\u001b[0m\n\u001b[0;32m   5577\u001b[0m     \u001b[1;32mdef\u001b[0m \u001b[0m__setattr__\u001b[0m\u001b[1;33m(\u001b[0m\u001b[0mself\u001b[0m\u001b[1;33m,\u001b[0m \u001b[0mname\u001b[0m\u001b[1;33m:\u001b[0m \u001b[0mstr\u001b[0m\u001b[1;33m,\u001b[0m \u001b[0mvalue\u001b[0m\u001b[1;33m)\u001b[0m \u001b[1;33m->\u001b[0m \u001b[1;32mNone\u001b[0m\u001b[1;33m:\u001b[0m\u001b[1;33m\u001b[0m\u001b[1;33m\u001b[0m\u001b[0m\n",
      "\u001b[1;31mAttributeError\u001b[0m: 'Series' object has no attribute 'date'"
     ]
    }
   ],
   "source": [
    "pd.to_datetime(financial_data['Date'])"
   ]
  },
  {
   "cell_type": "code",
   "execution_count": null,
   "metadata": {},
   "outputs": [],
   "source": [
    "financial_data = financial_data.reset_index()\n",
    "financial_data['Date']"
   ]
  },
  {
   "cell_type": "code",
   "execution_count": 12,
   "metadata": {},
   "outputs": [
    {
     "data": {
      "text/plain": [
       "pandas.core.series.Series"
      ]
     },
     "execution_count": 12,
     "metadata": {},
     "output_type": "execute_result"
    }
   ],
   "source": [
    "type(pd.to_datetime(financial_data['Date']))"
   ]
  }
 ],
 "metadata": {
  "kernelspec": {
   "display_name": "Python 3",
   "language": "python",
   "name": "python3"
  },
  "language_info": {
   "codemirror_mode": {
    "name": "ipython",
    "version": 3
   },
   "file_extension": ".py",
   "mimetype": "text/x-python",
   "name": "python",
   "nbconvert_exporter": "python",
   "pygments_lexer": "ipython3",
   "version": "3.7.4"
  }
 },
 "nbformat": 4,
 "nbformat_minor": 5
}
